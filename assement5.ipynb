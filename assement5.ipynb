{
 "cells": [
  {
   "cell_type": "markdown",
   "metadata": {
    "id": "5ujTeQy3mz8Z"
   },
   "source": [
    "# Business Data Fundamentals for AI Applications\n",
    "\n",
    "This notebook demonstrates key concepts about data and datasets in a business context, using a retail business scenario. It's designed for business professionals learning about AI and data science.\n",
    "\n",
    "## Contents\n",
    "1. Understanding Business Data Types\n",
    "2. Data Quality Assessment and Preprocessing\n",
    "3. Handling Missing Data\n",
    "4. Dataset Splitting for Business Analytics\n",
    "5. Feature Engineering for Business Insights\n",
    "6. Database Fundamentals for Business\n",
    "7. Final Coding Challenge: Customer Segmentation\n",
    "\n",
    "## Prerequisites\n",
    "- Basic Python knowledge\n",
    "- Understanding of business operations\n",
    "- Familiarity with data concepts"
   ]
  },
  {
   "cell_type": "code",
   "execution_count": 1,
   "metadata": {
    "executionInfo": {
     "elapsed": 6442,
     "status": "ok",
     "timestamp": 1747122388330,
     "user": {
      "displayName": "İbrahim",
      "userId": "17409863343183496223"
     },
     "user_tz": -120
    },
    "id": "7-B5ruCrmz8m"
   },
   "outputs": [],
   "source": [
    "# Import required libraries\n",
    "import pandas as pd\n",
    "import numpy as np\n",
    "from sklearn.model_selection import train_test_split\n",
    "from sklearn.preprocessing import StandardScaler\n",
    "import matplotlib.pyplot as plt\n",
    "\n",
    "# Suppress warnings for cleaner output\n",
    "import warnings\n",
    "warnings.filterwarnings('ignore')\n",
    "\n",
    "def print_section(title):\n",
    "    \"\"\"Helper function to print formatted section titles\"\"\"\n",
    "    print(\"\\n\" + \"=\"*80)\n",
    "    print(f\" {title} \")\n",
    "    print(\"=\"*80 + \"\\n\")"
   ]
  },
  {
   "cell_type": "markdown",
   "metadata": {
    "id": "uozCEXiAmz8q"
   },
   "source": [
    "## 1. Understanding Business Data Types\n",
    "\n",
    "In business applications, we encounter three main types of data:\n",
    "1. **Structured Data**: Organized data in tables/databases\n",
    "2. **Semi-structured Data**: Partially organized data (e.g., JSON, XML)\n",
    "3. **Unstructured Data**: Free-form data (text, images, etc.)\n",
    "\n",
    "Let's look at examples of each type using retail business data:"
   ]
  },
  {
   "cell_type": "code",
   "execution_count": 2,
   "metadata": {
    "colab": {
     "base_uri": "https://localhost:8080/"
    },
    "executionInfo": {
     "elapsed": 41,
     "status": "ok",
     "timestamp": 1747122402169,
     "user": {
      "displayName": "İbrahim",
      "userId": "17409863343183496223"
     },
     "user_tz": -120
    },
    "id": "rPh5s9Kzmz8s",
    "outputId": "67e09424-7726-4e4c-f918-cc65111c66a5"
   },
   "outputs": [
    {
     "name": "stdout",
     "output_type": "stream",
     "text": [
      "\n",
      "================================================================================\n",
      " SECTION 1: UNDERSTANDING BUSINESS DATA TYPES \n",
      "================================================================================\n",
      "\n",
      "Creating sample retail business data...\n",
      "\n",
      "Structured Data Example (Customer Purchase Records):\n",
      "   customer_id  purchase_amount  items_bought  is_member\n",
      "0         1001           150.50             3       True\n",
      "1         1002           200.75             4      False\n",
      "2         1003            75.25             1       True\n",
      "3         1004           300.00             5       True\n",
      "\n",
      "Semi-structured Data Example (Customer Feedback):\n",
      "{'customer_id': 1001, 'rating': 4, 'comments': 'Good service', 'tags': ['friendly', 'fast']}\n",
      "{'customer_id': 1002, 'rating': 5, 'comments': 'Excellent products', 'tags': ['quality', 'variety']}\n",
      "\n",
      "Unstructured Data Example (Customer Service Notes):\n",
      "\n",
      "Customer called regarding product return.\n",
      "Very satisfied with service but product didn't meet expectations.\n",
      "Offered 10% discount on next purchase.\n",
      "\n"
     ]
    }
   ],
   "source": [
    "print_section(\"SECTION 1: UNDERSTANDING BUSINESS DATA TYPES\")\n",
    "\n",
    "# Create example data for a retail business\n",
    "print(\"Creating sample retail business data...\")\n",
    "\n",
    "# Structured data example: Customer purchase records\n",
    "structured_data = pd.DataFrame({\n",
    "    'customer_id': [1001, 1002, 1003, 1004],\n",
    "    'purchase_amount': [150.50, 200.75, 75.25, 300.00],\n",
    "    'items_bought': [3, 4, 1, 5],\n",
    "    'is_member': [True, False, True, True]\n",
    "})\n",
    "\n",
    "print(\"\\nStructured Data Example (Customer Purchase Records):\")\n",
    "print(structured_data)\n",
    "\n",
    "# Semi-structured data example: Customer feedback in JSON format\n",
    "semi_structured_data = [\n",
    "    {'customer_id': 1001, 'rating': 4, 'comments': 'Good service', 'tags': ['friendly', 'fast']},\n",
    "    {'customer_id': 1002, 'rating': 5, 'comments': 'Excellent products', 'tags': ['quality', 'variety']}\n",
    "]\n",
    "\n",
    "print(\"\\nSemi-structured Data Example (Customer Feedback):\")\n",
    "for review in semi_structured_data:\n",
    "    print(review)\n",
    "\n",
    "# Unstructured data example: Customer service notes\n",
    "unstructured_data = \"\"\"\n",
    "Customer called regarding product return.\n",
    "Very satisfied with service but product didn't meet expectations.\n",
    "Offered 10% discount on next purchase.\n",
    "\"\"\"\n",
    "\n",
    "print(\"\\nUnstructured Data Example (Customer Service Notes):\")\n",
    "print(unstructured_data)"
   ]
  },
  {
   "cell_type": "markdown",
   "metadata": {
    "id": "609ePVc2mz8t"
   },
   "source": [
    "### Reflection Questions\n",
    "1. Which type of data would be most valuable for predicting customer churn?\n",
    "2. How might combining different data types improve business insights?\n",
    "\n",
    "## 2. Data Quality Assessment and Preprocessing\n",
    "\n",
    "Data quality is crucial for accurate business analytics. Common issues include:\n",
    "- Missing values\n",
    "- Incorrect values (e.g., negative quantities)\n",
    "- Inconsistent categories\n",
    "\n",
    "Let's examine and clean some problematic sales data:"
   ]
  },
  {
   "cell_type": "code",
   "execution_count": 3,
   "metadata": {
    "colab": {
     "base_uri": "https://localhost:8080/"
    },
    "executionInfo": {
     "elapsed": 26,
     "status": "ok",
     "timestamp": 1747122428590,
     "user": {
      "displayName": "İbrahim",
      "userId": "17409863343183496223"
     },
     "user_tz": -120
    },
    "id": "SvKOXd_Umz8v",
    "outputId": "0f53204a-3c38-47fa-d21e-9f90195cb4fb"
   },
   "outputs": [
    {
     "name": "stdout",
     "output_type": "stream",
     "text": [
      "\n",
      "================================================================================\n",
      " SECTION 2: DATA QUALITY ASSESSMENT AND PREPROCESSING \n",
      "================================================================================\n",
      "\n",
      "\n",
      "Original Sales Data:\n",
      "         date product_id  quantity   price customer_segment\n",
      "0  2024-01-01       A001        10   99.99          Premium\n",
      "1  2024-01-02       B002        -5  149.99            Basic\n",
      "2  2024-01-03       A001        15   99.99          Unknown\n",
      "3  2024-01-04       C003         0  199.99          Premium\n",
      "4  2024-01-05       B002         8  150.00            Basic\n",
      "\n",
      "Data Quality Assessment:\n",
      "1. Missing values: 0\n",
      "2. Negative values in quantity: 1\n",
      "3. Unknown categories: 1\n",
      "\n",
      "Cleaned Sales Data:\n",
      "         date product_id  quantity   price customer_segment\n",
      "0  2024-01-01       A001        10   99.99          Premium\n",
      "1  2024-01-02       B002         0  149.99            Basic\n",
      "2  2024-01-03       A001        15   99.99            Basic\n",
      "3  2024-01-04       C003         0  199.99          Premium\n",
      "4  2024-01-05       B002         8  150.00            Basic\n"
     ]
    }
   ],
   "source": [
    "print_section(\"SECTION 2: DATA QUALITY ASSESSMENT AND PREPROCESSING\")\n",
    "\n",
    "# Create sample sales data with quality issues\n",
    "sales_data = pd.DataFrame({\n",
    "    'date': ['2024-01-01', '2024-01-02', '2024-01-03', '2024-01-04', '2024-01-05'],\n",
    "    'product_id': ['A001', 'B002', 'A001', 'C003', 'B002'],\n",
    "    'quantity': [10, -5, 15, 0, 8],\n",
    "    'price': [99.99, 149.99, 99.99, 199.99, 150.00],\n",
    "    'customer_segment': ['Premium', 'Basic', 'Unknown', 'Premium', 'Basic']\n",
    "})\n",
    "\n",
    "print(\"\\nOriginal Sales Data:\")\n",
    "print(sales_data)\n",
    "\n",
    "# Check for data quality issues\n",
    "print(\"\\nData Quality Assessment:\")\n",
    "print(f\"1. Missing values: {sales_data.isnull().sum().sum()}\")\n",
    "print(f\"2. Negative values in quantity: {(sales_data['quantity'] < 0).sum()}\")\n",
    "print(f\"3. Unknown categories: {(sales_data['customer_segment'] == 'Unknown').sum()}\")\n",
    "\n",
    "# Clean the data\n",
    "cleaned_data = sales_data.copy()\n",
    "cleaned_data.loc[cleaned_data['quantity'] < 0, 'quantity'] = 0\n",
    "cleaned_data['customer_segment'] = cleaned_data['customer_segment'].replace('Unknown', 'Basic')\n",
    "\n",
    "print(\"\\nCleaned Sales Data:\")\n",
    "print(cleaned_data)"
   ]
  },
  {
   "cell_type": "markdown",
   "metadata": {
    "id": "ycaXsw1Emz8w"
   },
   "source": [
    "### Reflection Questions\n",
    "1. What business impact could negative quantity values have on analysis?\n",
    "2. How would you handle 'Unknown' values in a real business scenario?\n",
    "\n",
    "## 3. Handling Missing Data\n",
    "\n",
    "Missing data is common in business datasets and can significantly impact analysis. Let's explore different approaches to handling missing values:"
   ]
  },
  {
   "cell_type": "code",
   "execution_count": 4,
   "metadata": {
    "colab": {
     "base_uri": "https://localhost:8080/"
    },
    "executionInfo": {
     "elapsed": 17,
     "status": "ok",
     "timestamp": 1747122447168,
     "user": {
      "displayName": "İbrahim",
      "userId": "17409863343183496223"
     },
     "user_tz": -120
    },
    "id": "Tub5QJ5Mmz8y",
    "outputId": "12349bf4-f7c5-4323-b3d4-177c7c7cf114"
   },
   "outputs": [
    {
     "name": "stdout",
     "output_type": "stream",
     "text": [
      "\n",
      "================================================================================\n",
      " SECTION 3: HANDLING MISSING DATA \n",
      "================================================================================\n",
      "\n",
      "\n",
      "Customer Data with Missing Values:\n",
      "   customer_id   age  total_purchases  loyalty_years\n",
      "0         1001  35.0           1200.0            3.0\n",
      "1         1002   NaN            800.0            2.0\n",
      "2         1003  45.0              NaN            4.0\n",
      "3         1004  28.0           1500.0            NaN\n",
      "4         1005   NaN            950.0            1.0\n",
      "\n",
      "Missing Data Analysis:\n",
      "customer_id        0\n",
      "age                2\n",
      "total_purchases    1\n",
      "loyalty_years      1\n",
      "dtype: int64\n",
      "\n",
      "Customer Data After Handling Missing Values:\n",
      "   customer_id   age  total_purchases  loyalty_years\n",
      "0         1001  35.0           1200.0            3.0\n",
      "1         1002  36.0            800.0            2.0\n",
      "2         1003  45.0           1112.5            4.0\n",
      "3         1004  28.0           1500.0            2.5\n",
      "4         1005  36.0            950.0            1.0\n"
     ]
    }
   ],
   "source": [
    "print_section(\"SECTION 3: HANDLING MISSING DATA\")\n",
    "\n",
    "# Create customer data with missing values\n",
    "customer_data = pd.DataFrame({\n",
    "    'customer_id': range(1001, 1006),\n",
    "    'age': [35, np.nan, 45, 28, np.nan],\n",
    "    'total_purchases': [1200, 800, np.nan, 1500, 950],\n",
    "    'loyalty_years': [3, 2, 4, np.nan, 1]\n",
    "})\n",
    "\n",
    "print(\"\\nCustomer Data with Missing Values:\")\n",
    "print(customer_data)\n",
    "\n",
    "# Analyze missing data\n",
    "print(\"\\nMissing Data Analysis:\")\n",
    "print(customer_data.isnull().sum())\n",
    "\n",
    "# Handle missing data using mean imputation\n",
    "customer_data['age'].fillna(customer_data['age'].mean(), inplace=True)\n",
    "customer_data['total_purchases'].fillna(customer_data['total_purchases'].mean(), inplace=True)\n",
    "customer_data['loyalty_years'].fillna(customer_data['loyalty_years'].mean(), inplace=True)\n",
    "\n",
    "print(\"\\nCustomer Data After Handling Missing Values:\")\n",
    "print(customer_data)"
   ]
  },
  {
   "cell_type": "markdown",
   "metadata": {
    "id": "6xZx4rfsmz8z"
   },
   "source": [
    "### Reflection Questions\n",
    "1. What are the pros and cons of using mean imputation for missing values?\n",
    "2. How might missing data affect customer segmentation analysis?\n",
    "\n",
    "## 4. Dataset Splitting for Business Analytics\n",
    "\n",
    "When building predictive models, it's crucial to properly split data into training and testing sets. Let's demonstrate this using customer churn prediction as an example:"
   ]
  },
  {
   "cell_type": "code",
   "execution_count": 5,
   "metadata": {
    "colab": {
     "base_uri": "https://localhost:8080/"
    },
    "executionInfo": {
     "elapsed": 44,
     "status": "ok",
     "timestamp": 1747122479080,
     "user": {
      "displayName": "İbrahim",
      "userId": "17409863343183496223"
     },
     "user_tz": -120
    },
    "id": "W3ymqu1mmz81",
    "outputId": "cde5a1f5-9f9b-4a37-bdf7-30467062aaa2"
   },
   "outputs": [
    {
     "name": "stdout",
     "output_type": "stream",
     "text": [
      "\n",
      "================================================================================\n",
      " SECTION 4: DATASET SPLITTING FOR BUSINESS ANALYTICS \n",
      "================================================================================\n",
      "\n",
      "\n",
      "Sample of Customer Churn Data:\n",
      "   usage_frequency  support_calls  tenure_months  monthly_charges  churned\n",
      "0        11.490142              1             58        97.815892        0\n",
      "1         9.585207              2             26       126.796998        0\n",
      "2        11.943066              1             23       112.856640        0\n",
      "3        14.569090              5             26       113.326320        0\n",
      "4         9.297540              1             45        95.028248        0\n",
      "\n",
      "Dataset Splitting Results:\n",
      "Training set size: 800 customers\n",
      "Test set size: 200 customers\n",
      "Churn rate in training set: 19.88%\n",
      "Churn rate in test set: 16.50%\n"
     ]
    }
   ],
   "source": [
    "print_section(\"SECTION 4: DATASET SPLITTING FOR BUSINESS ANALYTICS\")\n",
    "\n",
    "# Create sample customer churn data\n",
    "np.random.seed(42)\n",
    "n_customers = 1000\n",
    "\n",
    "churn_data = pd.DataFrame({\n",
    "    'usage_frequency': np.random.normal(10, 3, n_customers),\n",
    "    'support_calls': np.random.poisson(2, n_customers),\n",
    "    'tenure_months': np.random.randint(1, 60, n_customers),\n",
    "    'monthly_charges': np.random.uniform(50, 150, n_customers),\n",
    "    'churned': np.random.choice([0, 1], n_customers, p=[0.8, 0.2])\n",
    "})\n",
    "\n",
    "print(\"\\nSample of Customer Churn Data:\")\n",
    "print(churn_data.head())\n",
    "\n",
    "# Split the data\n",
    "X = churn_data.drop('churned', axis=1)\n",
    "y = churn_data['churned']\n",
    "\n",
    "X_train, X_test, y_train, y_test = train_test_split(\n",
    "    X, y, test_size=0.2, random_state=42\n",
    ")\n",
    "\n",
    "print(\"\\nDataset Splitting Results:\")\n",
    "print(f\"Training set size: {len(X_train)} customers\")\n",
    "print(f\"Test set size: {len(X_test)} customers\")\n",
    "print(f\"Churn rate in training set: {y_train.mean():.2%}\")\n",
    "print(f\"Churn rate in test set: {y_test.mean():.2%}\")"
   ]
  },
  {
   "cell_type": "markdown",
   "metadata": {
    "id": "qSCh7OdYmz82"
   },
   "source": [
    "### Reflection Questions\n",
    "1. Why is it important to maintain similar churn rates in train and test sets?\n",
    "2. How would you handle highly imbalanced classes in churn prediction?\n",
    "\n",
    "## 5. Feature Engineering for Business Insights\n",
    "\n",
    "Feature engineering is the process of creating new meaningful features from existing data. Let's create customer-level features from transaction data:"
   ]
  },
  {
   "cell_type": "code",
   "execution_count": 6,
   "metadata": {
    "colab": {
     "base_uri": "https://localhost:8080/"
    },
    "executionInfo": {
     "elapsed": 23,
     "status": "ok",
     "timestamp": 1747122489378,
     "user": {
      "displayName": "İbrahim",
      "userId": "17409863343183496223"
     },
     "user_tz": -120
    },
    "id": "z1L6I4Bemz83",
    "outputId": "8578e11b-56a7-440c-cdb6-c6b83a0471f5"
   },
   "outputs": [
    {
     "name": "stdout",
     "output_type": "stream",
     "text": [
      "\n",
      "================================================================================\n",
      " SECTION 5: FEATURE ENGINEERING FOR BUSINESS INSIGHTS \n",
      "================================================================================\n",
      "\n",
      "\n",
      "Original Transaction Data:\n",
      "    customer_id transaction_date      amount\n",
      "0          1001       2024-01-01  360.420662\n",
      "1          1001       2024-01-02  321.098499\n",
      "2          1001       2024-01-03   98.261075\n",
      "3          1001       2024-01-04  278.675963\n",
      "4          1001       2024-01-05  380.965275\n",
      "5          1002       2024-01-06  496.433644\n",
      "6          1002       2024-01-07  333.116075\n",
      "7          1002       2024-01-08  216.631880\n",
      "8          1002       2024-01-09  151.768220\n",
      "9          1002       2024-01-10  442.773605\n",
      "10         1003       2024-01-11  416.554345\n",
      "11         1003       2024-01-12  155.265269\n",
      "12         1003       2024-01-13  140.284441\n",
      "13         1003       2024-01-14  371.811550\n",
      "14         1003       2024-01-15  191.728428\n",
      "\n",
      "Engineered Customer Features:\n",
      "   customer_id  avg_amount  total_spend  transaction_count first_purchase  \\\n",
      "0         1001  287.884295  1439.421474                  5     2024-01-01   \n",
      "1         1002  328.144685  1640.723425                  5     2024-01-06   \n",
      "2         1003  255.128807  1275.644033                  5     2024-01-11   \n",
      "\n",
      "  last_purchase  customer_age_days  avg_transaction_frequency  \n",
      "0    2024-01-05                  4                       1.25  \n",
      "1    2024-01-10                  4                       1.25  \n",
      "2    2024-01-15                  4                       1.25  \n"
     ]
    }
   ],
   "source": [
    "print_section(\"SECTION 5: FEATURE ENGINEERING FOR BUSINESS INSIGHTS\")\n",
    "\n",
    "# Create sample transaction data\n",
    "transactions = pd.DataFrame({\n",
    "    'customer_id': np.repeat(range(1001, 1004), 5),\n",
    "    'transaction_date': pd.date_range(start='2024-01-01', periods=15, freq='D'),\n",
    "    'amount': np.random.uniform(50, 500, 15)\n",
    "})\n",
    "\n",
    "print(\"\\nOriginal Transaction Data:\")\n",
    "print(transactions)\n",
    "\n",
    "# Feature engineering\n",
    "customer_features = transactions.groupby('customer_id').agg({\n",
    "    'amount': ['mean', 'sum', 'count'],\n",
    "    'transaction_date': ['min', 'max']\n",
    "}).reset_index()\n",
    "\n",
    "customer_features.columns = ['customer_id', 'avg_amount', 'total_spend',\n",
    "                           'transaction_count', 'first_purchase', 'last_purchase']\n",
    "\n",
    "customer_features['customer_age_days'] = (\n",
    "    customer_features['last_purchase'] - customer_features['first_purchase']\n",
    ").dt.days\n",
    "\n",
    "customer_features['avg_transaction_frequency'] = (\n",
    "    customer_features['transaction_count'] /\n",
    "    customer_features['customer_age_days']\n",
    ")\n",
    "\n",
    "print(\"\\nEngineered Customer Features:\")\n",
    "print(customer_features)"
   ]
  },
  {
   "cell_type": "markdown",
   "metadata": {
    "id": "rZn029m3mz84"
   },
   "source": [
    "### Reflection Questions\n",
    "1. Which engineered features might be most predictive of customer value?\n",
    "2. What additional features could be created from this data?\n",
    "\n",
    "## 6. Database Fundamentals for Business\n",
    "\n",
    "Understanding database concepts is crucial for business analytics. Let's explore a simple retail database system:"
   ]
  },
  {
   "cell_type": "code",
   "execution_count": 7,
   "metadata": {
    "colab": {
     "base_uri": "https://localhost:8080/"
    },
    "executionInfo": {
     "elapsed": 58,
     "status": "ok",
     "timestamp": 1747122497995,
     "user": {
      "displayName": "İbrahim",
      "userId": "17409863343183496223"
     },
     "user_tz": -120
    },
    "id": "gQGuH60Ymz84",
    "outputId": "7f0b5e80-44dd-4e79-c8c9-bf254a34ce4c"
   },
   "outputs": [
    {
     "name": "stdout",
     "output_type": "stream",
     "text": [
      "\n",
      "================================================================================\n",
      " SECTION 6: DATABASE FUNDAMENTALS FOR BUSINESS \n",
      "================================================================================\n",
      "\n",
      "Database Tables:\n",
      "\n",
      "Products:\n",
      "  product_id        name     category   price  stock\n",
      "0       P001      Laptop  Electronics  1200.0     50\n",
      "1       P002  Smartphone  Electronics   800.0    100\n",
      "2       P003      Tablet  Electronics   500.0     75\n",
      "3       P004  Headphones  Accessories   100.0    200\n",
      "\n",
      "Customers:\n",
      "  customer_id        name           email   join_date\n",
      "0        C001  John Smith  john@email.com  2024-01-01\n",
      "1        C002    Jane Doe  jane@email.com  2024-01-15\n",
      "2        C003  Bob Wilson   bob@email.com  2024-02-01\n",
      "\n",
      "Orders:\n",
      "  order_id customer_id product_id  quantity  order_date\n",
      "0     O001        C001       P001         1  2024-02-01\n",
      "1     O002        C002       P002         2  2024-02-02\n",
      "2     O003        C001       P003         1  2024-02-03\n",
      "3     O004        C003       P001         1  2024-02-04\n",
      "\n",
      "Database Operations Examples:\n",
      "\n",
      "1. Expensive Products (>$500):\n",
      "  product_id        name     category   price  stock\n",
      "0       P001      Laptop  Electronics  1200.0     50\n",
      "1       P002  Smartphone  Electronics   800.0    100\n",
      "\n",
      "2. Orders with Customer Names:\n",
      "  order_id customer_id product_id  quantity  order_date        name\n",
      "0     O001        C001       P001         1  2024-02-01  John Smith\n",
      "1     O002        C002       P002         2  2024-02-02    Jane Doe\n",
      "2     O003        C001       P003         1  2024-02-03  John Smith\n",
      "3     O004        C003       P001         1  2024-02-04  Bob Wilson\n",
      "\n",
      "3. Orders per Customer:\n",
      "customer_id\n",
      "C001    2\n",
      "C002    1\n",
      "C003    1\n",
      "dtype: int64\n"
     ]
    }
   ],
   "source": [
    "print_section(\"SECTION 6: DATABASE FUNDAMENTALS FOR BUSINESS\")\n",
    "\n",
    "# Create example tables for a simple retail database\n",
    "products = pd.DataFrame({\n",
    "    'product_id': ['P001', 'P002', 'P003', 'P004'],\n",
    "    'name': ['Laptop', 'Smartphone', 'Tablet', 'Headphones'],\n",
    "    'category': ['Electronics', 'Electronics', 'Electronics', 'Accessories'],\n",
    "    'price': [1200.00, 800.00, 500.00, 100.00],\n",
    "    'stock': [50, 100, 75, 200]\n",
    "})\n",
    "\n",
    "customers = pd.DataFrame({\n",
    "    'customer_id': ['C001', 'C002', 'C003'],\n",
    "    'name': ['John Smith', 'Jane Doe', 'Bob Wilson'],\n",
    "    'email': ['john@email.com', 'jane@email.com', 'bob@email.com'],\n",
    "    'join_date': ['2024-01-01', '2024-01-15', '2024-02-01']\n",
    "})\n",
    "\n",
    "orders = pd.DataFrame({\n",
    "    'order_id': ['O001', 'O002', 'O003', 'O004'],\n",
    "    'customer_id': ['C001', 'C002', 'C001', 'C003'],\n",
    "    'product_id': ['P001', 'P002', 'P003', 'P001'],\n",
    "    'quantity': [1, 2, 1, 1],\n",
    "    'order_date': ['2024-02-01', '2024-02-02', '2024-02-03', '2024-02-04']\n",
    "})\n",
    "\n",
    "print(\"Database Tables:\")\n",
    "print(\"\\nProducts:\")\n",
    "print(products)\n",
    "print(\"\\nCustomers:\")\n",
    "print(customers)\n",
    "print(\"\\nOrders:\")\n",
    "print(orders)\n",
    "\n",
    "# Database operations\n",
    "print(\"\\nDatabase Operations Examples:\")\n",
    "\n",
    "# 1. Filtering\n",
    "print(\"\\n1. Expensive Products (>$500):\")\n",
    "print(products[products['price'] > 500])\n",
    "\n",
    "# 2. Joining\n",
    "print(\"\\n2. Orders with Customer Names:\")\n",
    "print(pd.merge(orders, customers[['customer_id', 'name']], on='customer_id'))\n",
    "\n",
    "# 3. Aggregation\n",
    "print(\"\\n3. Orders per Customer:\")\n",
    "print(orders.groupby('customer_id').size())"
   ]
  },
  {
   "cell_type": "code",
   "execution_count": 8,
   "metadata": {
    "colab": {
     "base_uri": "https://localhost:8080/",
     "height": 503
    },
    "executionInfo": {
     "elapsed": 725,
     "status": "ok",
     "timestamp": 1747122504386,
     "user": {
      "displayName": "İbrahim",
      "userId": "17409863343183496223"
     },
     "user_tz": -120
    },
    "id": "AOKnnRUCmz85",
    "outputId": "df16e274-f2d2-45c6-9e3a-64e949251882"
   },
   "outputs": [
    {
     "data": {
      "image/png": "[encoded data removed]",
      "text/plain": [
       "<Figure size 1500x500 with 3 Axes>"
      ]
     },
     "metadata": {},
     "output_type": "display_data"
    }
   ],
   "source": [
    "# Create database visualizations\n",
    "plt.figure(figsize=(15, 5))\n",
    "\n",
    "# 1. Product Prices\n",
    "plt.subplot(131)\n",
    "plt.bar(products['name'], products['price'])\n",
    "plt.title('Product Prices')\n",
    "plt.xticks(rotation=45)\n",
    "plt.ylabel('Price ($)')\n",
    "\n",
    "# 2. Stock Levels\n",
    "plt.subplot(132)\n",
    "plt.pie(products['stock'], labels=products['name'], autopct='%1.1f%%')\n",
    "plt.title('Stock Distribution')\n",
    "\n",
    "# 3. Orders Timeline\n",
    "plt.subplot(133)\n",
    "order_counts = pd.to_datetime(orders['order_date']).value_counts().sort_index()\n",
    "plt.plot(order_counts.index, order_counts.values, marker='o')\n",
    "plt.title('Orders Timeline')\n",
    "plt.xticks(rotation=45)\n",
    "plt.ylabel('Number of Orders')\n",
    "\n",
    "plt.tight_layout()\n",
    "plt.show()"
   ]
  },
  {
   "cell_type": "markdown",
   "metadata": {
    "id": "YSjucB7Kmz86"
   },
   "source": [
    "### Database Schema\n",
    "```\n",
    "Products Table                 Customers Table\n",
    "+-------------+-------+       +-------------+-------+\n",
    "| product_id  | PK    |       | customer_id | PK    |\n",
    "| name        |       |       | name        |       |\n",
    "| category    |       |       | email       |       |\n",
    "| price       |       |       | join_date   |       |\n",
    "| stock       |       |       +-------------+-------+\n",
    "+-------------+-------+               ↑\n",
    "      ↑                              |\n",
    "      |                              |\n",
    "      |         Orders Table         |\n",
    "      |    +-------------+-------+   |\n",
    "      +----| product_id  | FK    |   |\n",
    "           | customer_id | FK    |---+\n",
    "           | order_id    | PK    |\n",
    "           | quantity    |       |\n",
    "           | order_date  |       |\n",
    "           +-------------+-------+\n",
    "```\n",
    "\n",
    "### Reflection Questions\n",
    "1. How does a relational database structure help maintain data integrity?\n",
    "2. What business insights can be derived from joining different tables?\n",
    "3. How might this database schema evolve as the business grows?\n",
    "\n",
    "## 7. Final Coding Challenge: Customer Segmentation\n",
    "\n",
    "Now it's your turn to apply what you've learned! Complete the customer segmentation challenge below:"
   ]
  },
  {
   "cell_type": "markdown",
   "metadata": {
    "id": "Cq7PiH0Hmz88"
   },
   "source": [
    "### Challenge: Create a Basic Customer Segmentation System\n",
    "\n",
    "Your task is to create a simple customer segmentation system based on:\n",
    "1. Total spending\n",
    "2. Transaction frequency\n",
    "3. Average transaction amount\n",
    "\n",
    "**Requirements:**\n",
    "1. Use the provided transaction data\n",
    "2. Create customer-level features\n",
    "3. Segment customers into 3 tiers: 'High Value', 'Medium Value', 'Low Value'\n",
    "4. Print the number of customers in each segment\n",
    "5. Calculate average metrics for each segment\n",
    "\n",
    "**Success Criteria:**\n",
    "1. Code runs without errors\n",
    "2. All required features are calculated correctly\n",
    "3. Segments are created using logical thresholds\n",
    "4. Output includes segment sizes and average metrics\n",
    "5. Code includes clear comments explaining the process"
   ]
  },
  {
   "cell_type": "code",
   "execution_count": null,
   "metadata": {
    "id": "klJIa6CXmz88"
   },
   "outputs": [],
   "source": [
    "def segment_customers(transactions):\n",
    "    '''\n",
    "    Segments customers based on their transaction patterns.\n",
    "\n",
    "    Parameters:\n",
    "        transactions: DataFrame with columns [customer_id, transaction_date, amount]\n",
    "\n",
    "    Returns:\n",
    "        DataFrame with customer segments and metrics\n",
    "    '''\n",
    "    # Step 1: Calculate customer-level metrics\n",
    "    # TODO: Group by customer_id and calculate:\n",
    "    # - total_spend\n",
    "    # - transaction_count\n",
    "    # - avg_transaction\n",
    "\n",
    "    # Step 2: Create segments\n",
    "    # TODO: Add segment column based on total_spend:\n",
    "    # - High Value: Top 20%\n",
    "    # - Medium Value: Middle 40%\n",
    "    # - Low Value: Bottom 40%\n",
    "\n",
    "    # Step 3: Calculate segment metrics\n",
    "    # TODO: Calculate average metrics for each segment\n",
    "\n",
    "    return customer_segments\n",
    "\n",
    "# Test data\n",
    "test_transactions = pd.DataFrame({\n",
    "    'customer_id': np.repeat(range(1001, 1021), 5),\n",
    "    'transaction_date': pd.date_range(start='2024-01-01', periods=100, freq='D'),\n",
    "    'amount': np.random.uniform(50, 500, 100)\n",
    "})\n",
    "\n",
    "# Your code here\n"
   ]
  }
 ],
 "metadata": {
  "colab": {
   "provenance": []
  },
  "kernelspec": {
   "display_name": "llms",
   "language": "python",
   "name": "python3"
  },
  "language_info": {
   "codemirror_mode": {
    "name": "ipython",
    "version": 3
   },
   "file_extension": ".py",
   "mimetype": "text/x-python",
   "name": "python",
   "nbconvert_exporter": "python",
   "pygments_lexer": "ipython3",
   "version": "3.11.11"
  }
 },
 "nbformat": 4,
 "nbformat_minor": 0
}
