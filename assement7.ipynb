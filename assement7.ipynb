import random

def choose_action(state, q_table, epsilon):
    if random.random() < epsilon:
        # Explore: choose a random action
        action = random.choice([UP, DOWN, LEFT, RIGHT])
    else:
        # Exploit: choose the action with the highest Q-value
        action = q_table[state].index(max(q_table[state]))
    return action


def is_valid_state(state):
    """Checks if a state is within the grid boundaries."""
    return 0 <= state[0] < GRID_SIZE and 0 <= state[1] < GRID_SIZE

def update_q_table(q_table, state, action, reward, next_state, alpha, gamma):
    if is_valid_state(next_state):  # <--- Boundary check here
        best_next_q = max(q_table[next_state])
        q_table[state][action] = q_table[state][action] + alpha * (reward + gamma * best_next_q - q_table[state][action])

  
      
# Grid dimensions
GRID_SIZE = 4

# Start and goal states
START = (0, 0)
GOAL = (GRID_SIZE - 1, GRID_SIZE - 1)

# Actions
UP = 0
DOWN = 1
LEFT = 2
RIGHT = 3

# Rewards
STEP_REWARD = -1
GOAL_REWARD = 10

# Initialize Q-table
q_table = {}
for x in range(GRID_SIZE):
    for y in range(GRID_SIZE):
        state = (x, y)
        q_table[state] = [0.0, 0.0, 0.0, 0.0]  # Q-values for U, D, L, R
        
          
alpha = 0.1  # Learning rate
gamma = 0.9  # Discount factor
epsilon = 0.1  # Exploration rate

state = START
done = False

while not done:
    action = choose_action(state, q_table, epsilon)
    next_state = (state[0] + [0, 1, 0, -1][action], state[1] + [-1, 0, 1, 0][action])

    if not is_valid_state(next_state): # <--- Boundary check here
        next_state = state # Stay in the same state if the move is invalid
        reward = STEP_REWARD # You might want to penalize invalid moves here
    elif next_state == GOAL:
        reward = GOAL_REWARD
        done = True
    else:
        reward = STEP_REWARD

    update_q_table(q_table, state, action, reward, next_state, alpha, gamma)
    state = next_state

print("Q-table:")
for s, q in q_table.items():
      print(f"{s}: {q}")